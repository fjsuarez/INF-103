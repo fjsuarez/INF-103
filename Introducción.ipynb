{
 "cells": [
  {
   "cell_type": "markdown",
   "metadata": {},
   "source": [
    "# INF-103: Programación II - Estructuras de datos\n",
    "\n",
    "### Ing. Francisco Suárez [(fjsuarez@gmail.com)](mailto:fjsuarez@gmail.com)\n",
    "\n",
    "**Git Repo**: https://github.com/fjsuarez/INF-103\n",
    "\n",
    "**Slack**: https://ucspinf-103.slack.com/"
   ]
  },
  {
   "cell_type": "code",
   "execution_count": 1,
   "metadata": {},
   "outputs": [
    {
     "name": "stdout",
     "output_type": "stream",
     "text": [
      "Usaremos Jupyter y Qt\n"
     ]
    }
   ],
   "source": [
    "#include <iostream>\n",
    "using namespace std;\n",
    "\n",
    "cout << \"Usaremos Jupyter y Qt\" << endl;"
   ]
  },
  {
   "cell_type": "markdown",
   "metadata": {},
   "source": [
    "# Contenido\n",
    "\n",
    "- [ ] Repaso: Objetos, punteros\n",
    "- [ ] Complementario: Cómo usar Git\n",
    "- [ ] Recursividad\n",
    "- [ ] Tipos de Datos Abstractos\n",
    "- [ ] Listas\n",
    "- [ ] Pilas\n",
    "- [ ] Colas\n",
    "- [ ] Árboles\n",
    "- [ ] Montículos\n",
    "- [ ] Mapas y Sets\n",
    "- [ ] Búsqueda y Ordenamiento"
   ]
  }
 ],
 "metadata": {
  "celltoolbar": "Attachments",
  "kernelspec": {
   "display_name": "C++17",
   "language": "C++17",
   "name": "xeus-cling-cpp17"
  },
  "language_info": {
   "codemirror_mode": "text/x-c++src",
   "file_extension": ".cpp",
   "mimetype": "text/x-c++src",
   "name": "c++",
   "version": "-std=c++17"
  }
 },
 "nbformat": 4,
 "nbformat_minor": 2
}
